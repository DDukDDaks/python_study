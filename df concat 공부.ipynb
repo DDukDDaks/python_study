{
 "cells": [
  {
   "cell_type": "code",
   "execution_count": 101,
   "id": "c0b3b84e",
   "metadata": {
    "scrolled": false
   },
   "outputs": [
    {
     "data": {
      "text/plain": [
       "[    a   b\n",
       " 0  a2  a2\n",
       " 0  a2  a2\n",
       " 0  a2  a2\n",
       " 0  a2  a2\n",
       " 0  a2  a2\n",
       " 0  a2  a2,\n",
       "     a   b\n",
       " 0  a2  a2\n",
       " 0  a2  a2\n",
       " 0  a2  a2\n",
       " 0  a2  a2\n",
       " 0  a2  a2\n",
       " 0  a2  a2]"
      ]
     },
     "execution_count": 101,
     "metadata": {},
     "output_type": "execute_result"
    }
   ],
   "source": [
    "import pandas as pd\n",
    "df2 = pd.DataFrame({'a':['a2'],'b':['a2']})\n",
    "\n",
    "df2\n",
    "test1=[0,0]\n",
    "# test1[0]=pd.DataFrame(columns=df2.columns)\n",
    "test1[0] = df2\n",
    "test1[1] = df2\n",
    "test1\n",
    "\n",
    "test=[0,0,0]\n",
    "test[0] = pd.concat(test1)\n",
    "test[1] = pd.concat(test1)\n",
    "test[2] = pd.concat(test1)\n",
    "\n",
    "test1=[0,0]\n",
    "test1[0] = df2\n",
    "test1[1] = df2\n",
    "\n",
    "test3=[0,0,0]\n",
    "test3[0] = pd.concat(test1)\n",
    "test3[1] = pd.concat(test1)\n",
    "test3[2] = pd.concat(test1)\n",
    "\n",
    "testt=[0,0]\n",
    "testt[0]=pd.concat(test)\n",
    "testt[1]=pd.concat(test3)\n",
    "testt[0].to_csv(\"1.csv\",encoding=\"CP949\")\n",
    "testt\n"
   ]
  },
  {
   "cell_type": "code",
   "execution_count": 104,
   "id": "b6262abf",
   "metadata": {},
   "outputs": [
    {
     "data": {
      "text/plain": [
       "[    a   b\n",
       " 0  a2  a2\n",
       " 0  a2  a2,\n",
       "     a   b\n",
       " 0  a2  a2\n",
       " 0  a2  a2,\n",
       "     a   b\n",
       " 0  a2  a2\n",
       " 0  a2  a2]"
      ]
     },
     "execution_count": 104,
     "metadata": {},
     "output_type": "execute_result"
    }
   ],
   "source": [
    "import pandas as pd\n",
    "df2 = pd.DataFrame({'a':['a2'],'b':['a2']})\n",
    "\n",
    "test1=[0,0]\n",
    "test1[0] = df2\n",
    "test1[1] = df2\n",
    "test1\n",
    "\n",
    "test=[0,0,0]\n",
    "test[0] = pd.concat(test1)\n",
    "test[1] = pd.concat(test1)\n",
    "test[2] = pd.concat(test1)\n",
    "test[0].to_csv(\"12.csv\",encoding=\"CP949\")\n",
    "\n",
    "test\n",
    "\n",
    "# print(type(test[0]))\n",
    "# print(type(test))"
   ]
  },
  {
   "cell_type": "code",
   "execution_count": 98,
   "id": "737078f5",
   "metadata": {},
   "outputs": [
    {
     "data": {
      "text/plain": [
       "[    a   b\n",
       " 0  a2  a2\n",
       " 0  a2  a2,\n",
       "     a   b\n",
       " 0  a2  a2\n",
       " 0  a2  a2,\n",
       "     a   b\n",
       " 0  a2  a2\n",
       " 0  a2  a2]"
      ]
     },
     "execution_count": 98,
     "metadata": {},
     "output_type": "execute_result"
    }
   ],
   "source": [
    "import pandas as pd\n",
    "df2 = pd.DataFrame({'a':['a2'],'b':['a2']})\n",
    "\n",
    "test1=[0,0]\n",
    "test1[0] = df2\n",
    "test1[1] = df2\n",
    "test1\n",
    "\n",
    "test=[0,0,0]\n",
    "test[0] = pd.concat(test1)\n",
    "test[1] = pd.concat(test1)\n",
    "test[2] = pd.concat(test1)\n",
    "\n",
    "test3[0] = pd.concat(test)\n",
    "# test3[0].to_csv(\"12.csv\",encoding=\"CP949\",index=False)\n",
    "test"
   ]
  },
  {
   "cell_type": "code",
   "execution_count": 103,
   "id": "f79933cf",
   "metadata": {},
   "outputs": [
    {
     "data": {
      "text/html": [
       "<div>\n",
       "<style scoped>\n",
       "    .dataframe tbody tr th:only-of-type {\n",
       "        vertical-align: middle;\n",
       "    }\n",
       "\n",
       "    .dataframe tbody tr th {\n",
       "        vertical-align: top;\n",
       "    }\n",
       "\n",
       "    .dataframe thead th {\n",
       "        text-align: right;\n",
       "    }\n",
       "</style>\n",
       "<table border=\"1\" class=\"dataframe\">\n",
       "  <thead>\n",
       "    <tr style=\"text-align: right;\">\n",
       "      <th></th>\n",
       "      <th>a</th>\n",
       "      <th>b</th>\n",
       "    </tr>\n",
       "  </thead>\n",
       "  <tbody>\n",
       "    <tr>\n",
       "      <th>0</th>\n",
       "      <td>a2</td>\n",
       "      <td>a2</td>\n",
       "    </tr>\n",
       "    <tr>\n",
       "      <th>0</th>\n",
       "      <td>a2</td>\n",
       "      <td>a2</td>\n",
       "    </tr>\n",
       "    <tr>\n",
       "      <th>0</th>\n",
       "      <td>a2</td>\n",
       "      <td>a2</td>\n",
       "    </tr>\n",
       "    <tr>\n",
       "      <th>0</th>\n",
       "      <td>a2</td>\n",
       "      <td>a2</td>\n",
       "    </tr>\n",
       "    <tr>\n",
       "      <th>0</th>\n",
       "      <td>a2</td>\n",
       "      <td>a2</td>\n",
       "    </tr>\n",
       "    <tr>\n",
       "      <th>0</th>\n",
       "      <td>a2</td>\n",
       "      <td>a2</td>\n",
       "    </tr>\n",
       "  </tbody>\n",
       "</table>\n",
       "</div>"
      ],
      "text/plain": [
       "    a   b\n",
       "0  a2  a2\n",
       "0  a2  a2\n",
       "0  a2  a2\n",
       "0  a2  a2\n",
       "0  a2  a2\n",
       "0  a2  a2"
      ]
     },
     "execution_count": 103,
     "metadata": {},
     "output_type": "execute_result"
    }
   ],
   "source": [
    "import pandas as pd\n",
    "df2 = pd.DataFrame({'a':['a2'],'b':['a2']})\n",
    "\n",
    "test1=[0,0]\n",
    "test1[0] = df2\n",
    "test1[1] = df2\n",
    "test1\n",
    "\n",
    "test=[0,0,0]\n",
    "test[0] = pd.concat(test1)\n",
    "test[1] = pd.concat(test1)\n",
    "test[2] = pd.concat(test1)\n",
    "\n",
    "test3 = pd.concat(test)\n",
    "test3.to_csv(\"12.csv\",encoding=\"CP949\",index=False)\n",
    "test3"
   ]
  },
  {
   "cell_type": "code",
   "execution_count": null,
   "id": "b9ba42f5",
   "metadata": {},
   "outputs": [],
   "source": []
  }
 ],
 "metadata": {
  "kernelspec": {
   "display_name": "Python 3 (ipykernel)",
   "language": "python",
   "name": "python3"
  },
  "language_info": {
   "codemirror_mode": {
    "name": "ipython",
    "version": 3
   },
   "file_extension": ".py",
   "mimetype": "text/x-python",
   "name": "python",
   "nbconvert_exporter": "python",
   "pygments_lexer": "ipython3",
   "version": "3.9.7"
  }
 },
 "nbformat": 4,
 "nbformat_minor": 5
}
